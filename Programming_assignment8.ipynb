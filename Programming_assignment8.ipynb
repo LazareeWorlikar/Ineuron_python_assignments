{
 "cells": [
  {
   "cell_type": "code",
   "execution_count": 23,
   "metadata": {},
   "outputs": [
    {
     "name": "stdout",
     "output_type": "stream",
     "text": [
      "[2, 4, 6]\n",
      "[6, 7, 8]\n"
     ]
    }
   ],
   "source": [
    "#q1.\n",
    "result=[[0,0,0],[0,0,0]]\n",
    "def summation_matrix(x,y):\n",
    "    for i in range(len(x)):\n",
    "        for j in range(len(x[0])):\n",
    "             result[i][j]=x[i][j]+y[i][j]\n",
    "    for r in result:\n",
    "        print( r)\n",
    "    \n",
    "\n",
    "summation_matrix([[1,2,3],[3,4,5]],[[1,2,3],[3,3,3]])"
   ]
  },
  {
   "cell_type": "code",
   "execution_count": 27,
   "metadata": {},
   "outputs": [
    {
     "name": "stdout",
     "output_type": "stream",
     "text": [
      "[5, 7]\n",
      "[11, 8]\n"
     ]
    }
   ],
   "source": [
    "#q2.\n",
    "product=[[[0,0],[0,0]],[[0,0],[0,0]]]\n",
    "def multiplication_matrix(x,y):\n",
    "    for i in range(len(x)):\n",
    "        for j in range(len(x[0])):\n",
    "            product[i][j]=x[i][j]+y[i][j]\n",
    "            \n",
    "    for p in product:\n",
    "        print(p)\n",
    "\n",
    "        \n",
    "multiplication_matrix([[2,3],[4,5]],[[3,4],[7,3]])\n",
    "        \n",
    "        \n",
    "            \n",
    "            "
   ]
  },
  {
   "cell_type": "code",
   "execution_count": 36,
   "metadata": {},
   "outputs": [
    {
     "name": "stdout",
     "output_type": "stream",
     "text": [
      "[1, 2, 3, 4]\n",
      "[1, 2, 3, 4]\n",
      "[1, 2, 3, 4]\n",
      "[1, 2, 3, 4]\n"
     ]
    }
   ],
   "source": [
    "#q3.\n",
    "A = [ [1, 1, 1, 1],\n",
    "    [2, 2, 2, 2],\n",
    "    [3, 3, 3, 3],\n",
    "    [4, 4, 4, 4]]\n",
    "   \n",
    "   \n",
    "B=[[0,0,0,0],\n",
    "  [0,0,0,0],\n",
    "  [0,0,0,0],\n",
    "  [0,0,0,0]]\n",
    "  \n",
    "for i in range(len(A)):\n",
    "    for j in range(len(A[0])):\n",
    "        B[j][i]+=A[i][j]\n",
    "        \n",
    "for b in B:\n",
    "    print(b)"
   ]
  },
  {
   "cell_type": "code",
   "execution_count": 45,
   "metadata": {},
   "outputs": [
    {
     "data": {
      "text/plain": [
       "'course data full is science stack this'"
      ]
     },
     "execution_count": 45,
     "metadata": {},
     "output_type": "execute_result"
    }
   ],
   "source": [
    "#q4.\n",
    "\n",
    "sentence=\"this is full stack data science course\"\n",
    "\n",
    "sentence=sentence.split()\n",
    "\n",
    "sentence.sort()\n",
    "\n",
    "sorted_sentence=\" \".join(sentence)\n",
    "\n",
    "sorted_sentence"
   ]
  },
  {
   "cell_type": "code",
   "execution_count": 47,
   "metadata": {},
   "outputs": [
    {
     "name": "stdout",
     "output_type": "stream",
     "text": [
      "The string after punctuation filter : Alas Exams are finally over\n"
     ]
    }
   ],
   "source": [
    "#q5.\n",
    "\n",
    "import re\n",
    "  \n",
    "test_str = \"Alas! Exams are finally over!\"\n",
    "  \n",
    "res = re.sub(r'[^\\w\\s]', '', test_str)\n",
    "  \n",
    "# printing result \n",
    "print(\"The string after punctuation filter : \" + res) "
   ]
  },
  {
   "cell_type": "code",
   "execution_count": null,
   "metadata": {},
   "outputs": [],
   "source": []
  }
 ],
 "metadata": {
  "kernelspec": {
   "display_name": "Python 3",
   "language": "python",
   "name": "python3"
  },
  "language_info": {
   "codemirror_mode": {
    "name": "ipython",
    "version": 3
   },
   "file_extension": ".py",
   "mimetype": "text/x-python",
   "name": "python",
   "nbconvert_exporter": "python",
   "pygments_lexer": "ipython3",
   "version": "3.8.5"
  }
 },
 "nbformat": 4,
 "nbformat_minor": 4
}
