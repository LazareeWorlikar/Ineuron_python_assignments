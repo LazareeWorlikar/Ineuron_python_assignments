{
 "cells": [
  {
   "cell_type": "code",
   "execution_count": 102,
   "metadata": {},
   "outputs": [
    {
     "name": "stdout",
     "output_type": "stream",
     "text": [
      "enter any number:89\n",
      "yes disarium number\n"
     ]
    }
   ],
   "source": [
    "#q1.\n",
    "n=int(input(\"enter any number:\"))\n",
    "def disarium_number(n):\n",
    "    \n",
    "    sum=0\n",
    "    j=0\n",
    "    while j< len(str(n)):\n",
    "        for i in str(n):\n",
    "            sum+=int(i)**int(j+1)\n",
    "            j+=1\n",
    "        break   \n",
    "    return sum\n",
    "    \n",
    "sum=disarium_number(n)\n",
    "\n",
    "if n==sum:\n",
    "    print(\"yes disarium number\")\n",
    "else:\n",
    "    print(\"not disarium number\")\n",
    "\n",
    "\n"
   ]
  },
  {
   "cell_type": "code",
   "execution_count": 50,
   "metadata": {},
   "outputs": [
    {
     "data": {
      "text/plain": [
       "[1, 2, 3, 4, 5, 6, 7, 8, 9, 89]"
      ]
     },
     "execution_count": 50,
     "metadata": {},
     "output_type": "execute_result"
    }
   ],
   "source": [
    "#q2.\n",
    "def disarium_number_range(n1,n2):\n",
    "    l=[]\n",
    "   \n",
    "    for num in range(n1,n2):\n",
    "        sum=0\n",
    "        j=0\n",
    "        \n",
    "        while j< len(str(num)):\n",
    "            for i in str(num):\n",
    "                sum+=int(i)**int(j+1)\n",
    "                j+=1\n",
    "                if sum==num:\n",
    "                    l.append(num)\n",
    "            break \n",
    "    return  l \n",
    "    \n",
    "disarium_number_range(1,100)"
   ]
  },
  {
   "cell_type": "code",
   "execution_count": 134,
   "metadata": {},
   "outputs": [
    {
     "name": "stdout",
     "output_type": "stream",
     "text": [
      "enter any positive number:23\n",
      "yes happy number\n"
     ]
    }
   ],
   "source": [
    "#q3.\n",
    "n=int(input(\"enter any positive number:\"))\n",
    "def happy_number(n):\n",
    "    if len(str(n))>=2:\n",
    "        for i in str(n):\n",
    "            while len(str(n))>=2:\n",
    "                sum=0\n",
    "                for i in str(n):\n",
    "                    sum+=int(i)**2\n",
    "                    n=sum\n",
    "        if n==1:\n",
    "            print(\"yes happy number\")\n",
    "        else:\n",
    "            print(\"not happy number\")\n",
    "    else:\n",
    "        n=n**2\n",
    "        for i in str(n):\n",
    "            while len(str(n))>=2:\n",
    "                sum=0\n",
    "                for i in str(n):\n",
    "                    sum+=int(i)**2\n",
    "                    n=sum\n",
    "        if n==1:\n",
    "            print(\"yes happy number\")\n",
    "        else:\n",
    "            print(\"not happy number\")\n",
    "            \n",
    "    \n",
    "happy_number(n)    "
   ]
  },
  {
   "cell_type": "code",
   "execution_count": 141,
   "metadata": {},
   "outputs": [
    {
     "name": "stdout",
     "output_type": "stream",
     "text": [
      "The list of happy numbers between 1 and 100 are : \n",
      "1\n",
      "7\n",
      "10\n",
      "13\n",
      "19\n",
      "23\n",
      "28\n",
      "31\n",
      "32\n",
      "44\n",
      "49\n",
      "68\n",
      "70\n",
      "79\n",
      "82\n",
      "86\n",
      "91\n",
      "94\n",
      "97\n",
      "100\n"
     ]
    }
   ],
   "source": [
    "#q4.\n",
    "\n",
    "def check_happy_num(my_num):\n",
    "   remainder = sum_val = 0\n",
    "   while(my_num > 0):\n",
    "      remainder = my_num%10\n",
    "      sum_val = sum_val + (remainder*remainder)\n",
    "      my_num = my_num//10\n",
    "   return sum_val\n",
    "print(\"The list of happy numbers between 1 and 100 are : \")\n",
    "for i in range(1, 101):\n",
    "   my_result = i\n",
    "   while(my_result != 1 and my_result != 4):\n",
    "      my_result = check_happy_num(my_result)\n",
    "   if(my_result == 1):\n",
    "      print(i)"
   ]
  },
  {
   "cell_type": "code",
   "execution_count": 155,
   "metadata": {},
   "outputs": [
    {
     "name": "stdout",
     "output_type": "stream",
     "text": [
      "Yes Harshad number\n"
     ]
    }
   ],
   "source": [
    "#q5.\n",
    "\n",
    "def harshad_number(n):\n",
    "    sum=0\n",
    "    i=0\n",
    "    while i < len(str(n)):\n",
    "        for j in str(n):\n",
    "            sum+=int(j)\n",
    "        a=n%sum\n",
    "        i+=1\n",
    "        if a ==0:\n",
    "            print(\"Yes Harshad number\")\n",
    "            break\n",
    "        else:\n",
    "            print(\"Not a Harshad Number\")\n",
    "         \n",
    "            break   \n",
    "harshad_number(20)                "
   ]
  },
  {
   "cell_type": "code",
   "execution_count": 163,
   "metadata": {},
   "outputs": [
    {
     "data": {
      "text/plain": [
       "[0,\n",
       " 2,\n",
       " 6,\n",
       " 12,\n",
       " 20,\n",
       " 30,\n",
       " 42,\n",
       " 56,\n",
       " 72,\n",
       " 90,\n",
       " 110,\n",
       " 132,\n",
       " 156,\n",
       " 182,\n",
       " 210,\n",
       " 240,\n",
       " 272,\n",
       " 306,\n",
       " 342,\n",
       " 380,\n",
       " 420,\n",
       " 462,\n",
       " 506,\n",
       " 552,\n",
       " 600,\n",
       " 650,\n",
       " 702,\n",
       " 756,\n",
       " 812,\n",
       " 870,\n",
       " 930,\n",
       " 992,\n",
       " 1056,\n",
       " 1122,\n",
       " 1190,\n",
       " 1260,\n",
       " 1332,\n",
       " 1406,\n",
       " 1482,\n",
       " 1560,\n",
       " 1640,\n",
       " 1722,\n",
       " 1806,\n",
       " 1892,\n",
       " 1980,\n",
       " 2070,\n",
       " 2162,\n",
       " 2256,\n",
       " 2352,\n",
       " 2450,\n",
       " 2550,\n",
       " 2652,\n",
       " 2756,\n",
       " 2862,\n",
       " 2970,\n",
       " 3080,\n",
       " 3192,\n",
       " 3306,\n",
       " 3422,\n",
       " 3540,\n",
       " 3660,\n",
       " 3782,\n",
       " 3906,\n",
       " 4032,\n",
       " 4160,\n",
       " 4290,\n",
       " 4422,\n",
       " 4556,\n",
       " 4692,\n",
       " 4830,\n",
       " 4970,\n",
       " 5112,\n",
       " 5256,\n",
       " 5402,\n",
       " 5550,\n",
       " 5700,\n",
       " 5852,\n",
       " 6006,\n",
       " 6162,\n",
       " 6320,\n",
       " 6480,\n",
       " 6642,\n",
       " 6806,\n",
       " 6972,\n",
       " 7140,\n",
       " 7310,\n",
       " 7482,\n",
       " 7656,\n",
       " 7832,\n",
       " 8010,\n",
       " 8190,\n",
       " 8372,\n",
       " 8556,\n",
       " 8742,\n",
       " 8930,\n",
       " 9120,\n",
       " 9312,\n",
       " 9506,\n",
       " 9702,\n",
       " 9900]"
      ]
     },
     "execution_count": 163,
     "metadata": {},
     "output_type": "execute_result"
    }
   ],
   "source": [
    "#q6.\n",
    "def pronic_number(a,b):\n",
    "    pronic=[]\n",
    "    for i in range(a,b+1):\n",
    "        \n",
    "        pronic.append(i*(i-1))\n",
    "      \n",
    "    return pronic\n",
    "        \n",
    "\n",
    "harshad_number(1,100)"
   ]
  },
  {
   "cell_type": "code",
   "execution_count": null,
   "metadata": {},
   "outputs": [],
   "source": []
  }
 ],
 "metadata": {
  "kernelspec": {
   "display_name": "Python 3",
   "language": "python",
   "name": "python3"
  },
  "language_info": {
   "codemirror_mode": {
    "name": "ipython",
    "version": 3
   },
   "file_extension": ".py",
   "mimetype": "text/x-python",
   "name": "python",
   "nbconvert_exporter": "python",
   "pygments_lexer": "ipython3",
   "version": "3.8.5"
  }
 },
 "nbformat": 4,
 "nbformat_minor": 4
}
