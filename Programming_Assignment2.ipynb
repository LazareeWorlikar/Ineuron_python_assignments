{
 "cells": [
  {
   "cell_type": "code",
   "execution_count": 2,
   "metadata": {},
   "outputs": [
    {
     "name": "stdout",
     "output_type": "stream",
     "text": [
      "enter kms:3\n",
      "3kms is equal to 1.8599999999999999 miles\n"
     ]
    }
   ],
   "source": [
    "#q1.\n",
    "user_input=int(input(\"enter kms:\"))\n",
    "to_miles= user_input*0.62\n",
    "print(f\"{user_input}kms is equal to {to_miles} miles\")"
   ]
  },
  {
   "cell_type": "code",
   "execution_count": 3,
   "metadata": {},
   "outputs": [
    {
     "name": "stdout",
     "output_type": "stream",
     "text": [
      "enter celsius:50\n",
      "50 celsius is equal to 122.0fahrenheit\n"
     ]
    }
   ],
   "source": [
    "#q2.\n",
    "enter_celsius=int(input(\"enter celsius:\"))\n",
    "to_fahrenheit=(enter_celsius*1.8)+32\n",
    "\n",
    "print(f\"{enter_celsius} celsius is equal to {to_fahrenheit}fahrenheit\")"
   ]
  },
  {
   "cell_type": "code",
   "execution_count": 4,
   "metadata": {},
   "outputs": [
    {
     "name": "stdout",
     "output_type": "stream",
     "text": [
      "     March 2021\n",
      "Mo Tu We Th Fr Sa Su\n",
      " 1  2  3  4  5  6  7\n",
      " 8  9 10 11 12 13 14\n",
      "15 16 17 18 19 20 21\n",
      "22 23 24 25 26 27 28\n",
      "29 30 31\n",
      "\n"
     ]
    }
   ],
   "source": [
    "#q3.\n",
    "\n",
    "import calendar\n",
    "yy = 2021  # year\n",
    "mm = 3  # month\n",
    "\n",
    "print(calendar.month(yy, mm))"
   ]
  },
  {
   "cell_type": "code",
   "execution_count": 10,
   "metadata": {},
   "outputs": [
    {
     "name": "stdout",
     "output_type": "stream",
     "text": [
      "The solution are (-12+0j) and (2+0j)\n"
     ]
    }
   ],
   "source": [
    "#q4.\n",
    "\n",
    "# import complex math module\n",
    "import cmath\n",
    "\n",
    "a = 1\n",
    "b = 10\n",
    "c = -24\n",
    "\n",
    "# calculate the discriminant\n",
    "d = (b**2) - (4*a*c)\n",
    "\n",
    "# find two solutions\n",
    "sol1 = (-b-cmath.sqrt(d))/(2*a)\n",
    "sol2 = (-b+cmath.sqrt(d))/(2*a)\n",
    "\n",
    "print(f'The solution are {sol1} and {sol2}')"
   ]
  },
  {
   "cell_type": "code",
   "execution_count": 11,
   "metadata": {},
   "outputs": [
    {
     "name": "stdout",
     "output_type": "stream",
     "text": [
      "After Swapping: x = 6  y = 10\n"
     ]
    }
   ],
   "source": [
    "#q5.\n",
    "\n",
    "x = 10\n",
    "y = 6\n",
    "x = x + y  \n",
    "y = x - y\n",
    "x = x - y\n",
    "print(\"After Swapping: x =\", x, \" y =\", y)"
   ]
  },
  {
   "cell_type": "code",
   "execution_count": null,
   "metadata": {},
   "outputs": [],
   "source": []
  }
 ],
 "metadata": {
  "kernelspec": {
   "display_name": "Python 3",
   "language": "python",
   "name": "python3"
  },
  "language_info": {
   "codemirror_mode": {
    "name": "ipython",
    "version": 3
   },
   "file_extension": ".py",
   "mimetype": "text/x-python",
   "name": "python",
   "nbconvert_exporter": "python",
   "pygments_lexer": "ipython3",
   "version": "3.8.5"
  }
 },
 "nbformat": 4,
 "nbformat_minor": 4
}
