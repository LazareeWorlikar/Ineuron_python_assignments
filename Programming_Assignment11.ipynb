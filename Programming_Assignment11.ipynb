{
 "cells": [
  {
   "cell_type": "code",
   "execution_count": 6,
   "metadata": {},
   "outputs": [
    {
     "data": {
      "text/plain": [
       "['grapes', 'silently']"
      ]
     },
     "execution_count": 6,
     "metadata": {},
     "output_type": "execute_result"
    }
   ],
   "source": [
    "#q1.\n",
    "def greater_length(k,lst):\n",
    "    l=[]\n",
    "    for i in lst:\n",
    "        if len(i)>k:\n",
    "            l.append(i)\n",
    "    return l    \n",
    "            \n",
    "\n",
    "greater_length(3,[\"The\",\"fox\",\"ate\",\"grapes\",\"silently\"])"
   ]
  },
  {
   "cell_type": "code",
   "execution_count": 13,
   "metadata": {},
   "outputs": [
    {
     "data": {
      "text/plain": [
       "[1, 2, 4]"
      ]
     },
     "execution_count": 13,
     "metadata": {},
     "output_type": "execute_result"
    }
   ],
   "source": [
    "#q2.\n",
    "def remove_ith(n,lst):\n",
    "    l=[]\n",
    "    for i in lst:\n",
    "        if lst.index(i)==n:\n",
    "            pass\n",
    "        else:\n",
    "            l.append(i)\n",
    "    return l        \n",
    "            \n",
    "            \n",
    "remove_ith(2,[1,2,3,4])            "
   ]
  },
  {
   "cell_type": "code",
   "execution_count": 15,
   "metadata": {},
   "outputs": [
    {
     "data": {
      "text/plain": [
       "['the', 'fox', 'ate', 'the', 'grapes', 'silently']"
      ]
     },
     "execution_count": 15,
     "metadata": {},
     "output_type": "execute_result"
    }
   ],
   "source": [
    "#q3.\n",
    "\n",
    "string=\"the fox ate the grapes silently\"\n",
    "list1=string.split()\n",
    "list1"
   ]
  },
  {
   "cell_type": "code",
   "execution_count": 17,
   "metadata": {},
   "outputs": [
    {
     "data": {
      "text/plain": [
       "'the fox ate grapes'"
      ]
     },
     "execution_count": 17,
     "metadata": {},
     "output_type": "execute_result"
    }
   ],
   "source": [
    "list1=[\"the\",\"fox\",\"ate\",\"grapes\"]\n",
    "string1=\" \".join(list1)\n",
    "string1"
   ]
  },
  {
   "cell_type": "code",
   "execution_count": 28,
   "metadata": {},
   "outputs": [
    {
     "name": "stdout",
     "output_type": "stream",
     "text": [
      "yes\n"
     ]
    }
   ],
   "source": [
    "#q4.\n",
    "\n",
    "string=\"010101\"\n",
    "def binary(string):\n",
    "    p=set(string)\n",
    "    s={'0','1'}\n",
    "    if p==s or p=={'0'} or p=={'1'}:\n",
    "        print(\"yes\")\n",
    "    else:\n",
    "        print(\"no\")\n",
    "\n",
    "binary(\"10101\")"
   ]
  },
  {
   "cell_type": "code",
   "execution_count": 38,
   "metadata": {},
   "outputs": [],
   "source": [
    "#q5.\n",
    "\n",
    "string1=\"my name is Rahul\"\n",
    "string2=\"MY name is SAM\"\n",
    "\n",
    "string1=string1.upper()\n",
    "string2=string2.upper()\n",
    "\n",
    "s1=set(string1.split())\n",
    "s2=set(string2.split())\n",
    "\n",
    "s1.intersection(s2)"
   ]
  },
  {
   "cell_type": "code",
   "execution_count": 44,
   "metadata": {},
   "outputs": [
    {
     "data": {
      "text/plain": [
       "{'RAHUL'}"
      ]
     },
     "execution_count": 44,
     "metadata": {},
     "output_type": "execute_result"
    }
   ],
   "source": [
    "#q6.\n",
    "s1.difference(s2)"
   ]
  },
  {
   "cell_type": "code",
   "execution_count": 45,
   "metadata": {},
   "outputs": [
    {
     "data": {
      "text/plain": [
       "{'SAM'}"
      ]
     },
     "execution_count": 45,
     "metadata": {},
     "output_type": "execute_result"
    }
   ],
   "source": [
    "s2.difference(s1)"
   ]
  },
  {
   "cell_type": "code",
   "execution_count": 55,
   "metadata": {},
   "outputs": [
    {
     "name": "stdout",
     "output_type": "stream",
     "text": [
      "{'went', 'he', 'to', 'the'}\n"
     ]
    }
   ],
   "source": [
    "#q7.\n",
    "\n",
    "string1=\"this is the way he went to school by bus and then he went to the mall\"\n",
    "list1=string1.split( )\n",
    "duplicates=set()\n",
    "for i in list1:\n",
    "    \n",
    "    if list1.count(i)>1:\n",
    "        duplicates.add(i)\n",
    "print(duplicates)         \n",
    "    "
   ]
  },
  {
   "cell_type": "code",
   "execution_count": 14,
   "metadata": {},
   "outputs": [
    {
     "name": "stdout",
     "output_type": "stream",
     "text": [
      "contains special characters\n"
     ]
    }
   ],
   "source": [
    "#q8.\n",
    "import string\n",
    "x=\"hello@\"\n",
    "y=set(string.punctuation)\n",
    "for i in range(len(x)):\n",
    "    if x[i] in y:\n",
    "        print(\"contains special characters\")\n",
    "        break\n",
    "    else:\n",
    "        pass\n",
    "       "
   ]
  },
  {
   "cell_type": "code",
   "execution_count": null,
   "metadata": {},
   "outputs": [],
   "source": []
  }
 ],
 "metadata": {
  "kernelspec": {
   "display_name": "Python 3",
   "language": "python",
   "name": "python3"
  },
  "language_info": {
   "codemirror_mode": {
    "name": "ipython",
    "version": 3
   },
   "file_extension": ".py",
   "mimetype": "text/x-python",
   "name": "python",
   "nbconvert_exporter": "python",
   "pygments_lexer": "ipython3",
   "version": "3.8.5"
  }
 },
 "nbformat": 4,
 "nbformat_minor": 4
}
