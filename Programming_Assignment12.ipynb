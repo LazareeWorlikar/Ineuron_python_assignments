{
 "cells": [
  {
   "cell_type": "code",
   "execution_count": 10,
   "metadata": {},
   "outputs": [
    {
     "name": "stdout",
     "output_type": "stream",
     "text": [
      "[6, 7, 4, 23, 8, 9, 5, 2, 3]\n"
     ]
    }
   ],
   "source": [
    "#q1.\n",
    "test_dict = {\"a\" : [6, 7, 4, 23], \n",
    "             \"b\" : [8, 9, 5], \n",
    "             \"c\" : [2, 5, 3, 7], \n",
    "             \"d\" : [6, 8, 5, 2]}\n",
    "\n",
    "test_dict\n",
    "\n",
    "l=[]\n",
    "for i in test_dict:\n",
    "    for j in  test_dict[i]:\n",
    "        if j not in l:\n",
    "            l.append(j)\n",
    "            \n",
    "print(l)             "
   ]
  },
  {
   "cell_type": "code",
   "execution_count": 11,
   "metadata": {},
   "outputs": [
    {
     "name": "stdout",
     "output_type": "stream",
     "text": [
      "100\n"
     ]
    }
   ],
   "source": [
    "#q2.\n",
    "test_dict = {\"a\" : [6, 7, 4, 23], \n",
    "             \"b\" : [8, 9, 5], \n",
    "             \"c\" : [2, 5, 3, 7], \n",
    "             \"d\" : [6, 8, 5, 2]}\n",
    "\n",
    "test_dict\n",
    "\n",
    "sum=0\n",
    "for i in test_dict:\n",
    "    for j in  test_dict[i]:\n",
    "        sum+=j\n",
    "            \n",
    "print(sum)         "
   ]
  },
  {
   "cell_type": "code",
   "execution_count": 14,
   "metadata": {},
   "outputs": [
    {
     "data": {
      "text/plain": [
       "{'a': 1, 'b': 2, 'c': 4, 'd': 8}"
      ]
     },
     "execution_count": 14,
     "metadata": {},
     "output_type": "execute_result"
    }
   ],
   "source": [
    "#q3.\n",
    "d1={'a':1,'b':2}\n",
    "d2={'c':4,'d':8}\n",
    "\n",
    "d1.update(d2)\n",
    "\n",
    "d1"
   ]
  },
  {
   "cell_type": "code",
   "execution_count": 24,
   "metadata": {},
   "outputs": [
    {
     "name": "stdout",
     "output_type": "stream",
     "text": [
      "[['a', 6, 7, 4, 23], ['b', 8, 9, 5], ['c', 2, 5, 3, 7], ['d', 6, 8, 5, 2]]\n"
     ]
    }
   ],
   "source": [
    "#q4.\n",
    "\n",
    "\n",
    "d1 = {'a' : [1, 3, 4], 'b' : [5, 6], 'c' : [7, 5]}\n",
    "res = []\n",
    "for key, val in test_dict.items():\n",
    "    res.append([key] + val)\n",
    "print(res)"
   ]
  },
  {
   "cell_type": "code",
   "execution_count": 43,
   "metadata": {},
   "outputs": [
    {
     "data": {
      "text/plain": [
       "OrderedDict([('name', 'lazaree'), ('age', 24), ('height', 5.4)])"
      ]
     },
     "execution_count": 43,
     "metadata": {},
     "output_type": "execute_result"
    }
   ],
   "source": [
    "#q5.\n",
    "from collections import OrderedDict\n",
    "d1={\"age\":24,\"height\":5.4}\n",
    "d1.update({\"name\" : \"lazaree\"})\n",
    "d1=OrderedDict(d1)\n",
    "d1.move_to_end(\"name\",last=False)\n",
    "d1"
   ]
  },
  {
   "cell_type": "code",
   "execution_count": 47,
   "metadata": {},
   "outputs": [
    {
     "name": "stdout",
     "output_type": "stream",
     "text": [
      "true\n"
     ]
    }
   ],
   "source": [
    "#q6.\n",
    "\n",
    "from collections import OrderedDict \n",
    "  \n",
    "def checkOrder(input, pattern): \n",
    "      \n",
    "   \n",
    "    dict = OrderedDict.fromkeys(input) \n",
    "  \n",
    "    \n",
    "    ptrlen = 0\n",
    "    for key,value in dict.items(): \n",
    "        if (key == pattern[ptrlen]): \n",
    "            ptrlen = ptrlen + 1\n",
    "        \n",
    "        if (ptrlen == (len(pattern))): \n",
    "            return 'true'\n",
    "  \n",
    "    \n",
    "    return 'false'\n",
    "input = 'happy birthday'\n",
    "pattern = 'pbi'\n",
    "print (checkOrder(input,pattern))   "
   ]
  },
  {
   "cell_type": "code",
   "execution_count": 51,
   "metadata": {},
   "outputs": [
    {
     "name": "stdout",
     "output_type": "stream",
     "text": [
      "b\n",
      "c\n",
      "e\n"
     ]
    }
   ],
   "source": [
    "#q7.\n",
    "\n",
    "d1={}\n",
    "d1[\"e\"]=5\n",
    "d1[\"b\"]=2\n",
    "d1[\"c\"]=3\n",
    "\n",
    "for i in sorted(d1.keys()):\n",
    "    print(i)"
   ]
  },
  {
   "cell_type": "code",
   "execution_count": 52,
   "metadata": {},
   "outputs": [
    {
     "name": "stdout",
     "output_type": "stream",
     "text": [
      "2\n",
      "3\n",
      "5\n"
     ]
    }
   ],
   "source": [
    "for i in sorted(d1.values()):\n",
    "    print(i)"
   ]
  },
  {
   "cell_type": "code",
   "execution_count": null,
   "metadata": {},
   "outputs": [],
   "source": []
  }
 ],
 "metadata": {
  "kernelspec": {
   "display_name": "Python 3",
   "language": "python",
   "name": "python3"
  },
  "language_info": {
   "codemirror_mode": {
    "name": "ipython",
    "version": 3
   },
   "file_extension": ".py",
   "mimetype": "text/x-python",
   "name": "python",
   "nbconvert_exporter": "python",
   "pygments_lexer": "ipython3",
   "version": "3.8.5"
  }
 },
 "nbformat": 4,
 "nbformat_minor": 4
}
