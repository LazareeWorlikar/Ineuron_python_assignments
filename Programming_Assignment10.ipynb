{
 "cells": [
  {
   "cell_type": "code",
   "execution_count": 2,
   "metadata": {},
   "outputs": [
    {
     "data": {
      "text/plain": [
       "51"
      ]
     },
     "execution_count": 2,
     "metadata": {},
     "output_type": "execute_result"
    }
   ],
   "source": [
    "#q1.\n",
    "def sum_list(l):\n",
    "    sum=0\n",
    "    for i in l:\n",
    "        sum+=i\n",
    "    return sum  \n",
    "\n",
    "sum_list([1,2,3,45])"
   ]
  },
  {
   "cell_type": "code",
   "execution_count": 15,
   "metadata": {},
   "outputs": [
    {
     "data": {
      "text/plain": [
       "24"
      ]
     },
     "execution_count": 15,
     "metadata": {},
     "output_type": "execute_result"
    }
   ],
   "source": [
    "#q2.\n",
    "\n",
    "def multiply_list(l):\n",
    "    prod=1\n",
    "    for i in l:\n",
    "        prod*=i\n",
    "    return prod    \n",
    "\n",
    "multiply_list([1,2,3,4])"
   ]
  },
  {
   "cell_type": "code",
   "execution_count": 16,
   "metadata": {},
   "outputs": [
    {
     "name": "stdout",
     "output_type": "stream",
     "text": [
      "How many numbers: 5\n",
      "Enter number 1\n",
      "Enter number 2\n",
      "Enter number 3\n",
      "Enter number 4\n",
      "Enter number 5\n",
      "Maximum element in the list is : 5 \n",
      "Minimum element in the list is : 1\n"
     ]
    }
   ],
   "source": [
    "#q3 and q4.\n",
    "\n",
    "lst = []\n",
    "num = int(input('How many numbers: '))\n",
    "for n in range(num):\n",
    "    numbers = int(input('Enter number '))\n",
    "    lst.append(numbers)\n",
    "print(\"Maximum element in the list is :\", max(lst), \"\\nMinimum element in the list is :\", min(lst))"
   ]
  },
  {
   "cell_type": "code",
   "execution_count": 30,
   "metadata": {},
   "outputs": [
    {
     "name": "stdout",
     "output_type": "stream",
     "text": [
      "how many numbers:3\n",
      "enter any number:5\n",
      "enter any number:7\n",
      "enter any number:6\n",
      "second largest element is 6\n"
     ]
    }
   ],
   "source": [
    "#q5.\n",
    "\n",
    "lst=[]\n",
    "num=int(input(\"how many numbers:\"))\n",
    "for i in range(num):\n",
    "    i=int(input('enter any number:'))\n",
    "    lst.append(i)\n",
    "lst.sort()\n",
    "lst.pop(-1)\n",
    "print(f\"second largest element is {max(lst)}\")    "
   ]
  },
  {
   "cell_type": "code",
   "execution_count": 61,
   "metadata": {},
   "outputs": [
    {
     "name": "stdout",
     "output_type": "stream",
     "text": [
      "how many numbers:5\n",
      "enter any number:5\n",
      "enter any number:7\n",
      "enter any number:9\n",
      "enter any number:11\n",
      "enter any number:13\n",
      "[5, 7, 9, 11, 13]\n",
      "2th largest number in list is 7\n"
     ]
    }
   ],
   "source": [
    "#q6.\n",
    "def find_n_largest(n):\n",
    "    lst=[]\n",
    "    num=int(input(\"how many numbers:\"))\n",
    "    for i in range(num):\n",
    "        i=int(input('enter any number:'))\n",
    "        lst.append(i)\n",
    "    lst.sort()\n",
    "    print(lst)\n",
    "    print(f\"{n}th largest number in list is {lst[n-1]}\")\n",
    "\n",
    "find_n_largest(2)\n"
   ]
  },
  {
   "cell_type": "code",
   "execution_count": 62,
   "metadata": {},
   "outputs": [
    {
     "data": {
      "text/plain": [
       "[2, 4, 6]"
      ]
     },
     "execution_count": 62,
     "metadata": {},
     "output_type": "execute_result"
    }
   ],
   "source": [
    "#q7.\n",
    "def even(lst):\n",
    "     return [i for i in lst if i%2==0]\n",
    "    \n",
    "    \n",
    "even([2,3,4,5,6])    "
   ]
  },
  {
   "cell_type": "code",
   "execution_count": 63,
   "metadata": {},
   "outputs": [
    {
     "data": {
      "text/plain": [
       "[1, 3, 5, 7]"
      ]
     },
     "execution_count": 63,
     "metadata": {},
     "output_type": "execute_result"
    }
   ],
   "source": [
    "#q8.\n",
    "def odd(lst):\n",
    "    return [i for i in lst if i%2 !=0]\n",
    "\n",
    "odd([1,2,3,4,5,6,7])"
   ]
  },
  {
   "cell_type": "code",
   "execution_count": 77,
   "metadata": {},
   "outputs": [
    {
     "data": {
      "text/plain": [
       "[[1, 2, 3, 4], 9, 'lazaree', 90, 99]"
      ]
     },
     "execution_count": 77,
     "metadata": {},
     "output_type": "execute_result"
    }
   ],
   "source": [
    "#q9.\n",
    "def remove_empty(lst):\n",
    "    i=0\n",
    "    while i < len(lst):\n",
    "        \n",
    "        if lst[i]==[]:\n",
    "            lst.remove(lst[i])\n",
    "        i+=1\n",
    "    return lst\n",
    "\n",
    "remove_empty([[1,2,3,4],9,[],\"lazaree\",[],90,99,[]])"
   ]
  },
  {
   "cell_type": "code",
   "execution_count": 79,
   "metadata": {},
   "outputs": [
    {
     "data": {
      "text/plain": [
       "[12, 23, 78]"
      ]
     },
     "execution_count": 79,
     "metadata": {},
     "output_type": "execute_result"
    }
   ],
   "source": [
    "#q10.\n",
    "\n",
    "def cloning(lst):\n",
    "    \n",
    "    lst1=lst[:]\n",
    "    return lst\n",
    "\n",
    "cloning([12,23,78])"
   ]
  },
  {
   "cell_type": "code",
   "execution_count": 83,
   "metadata": {},
   "outputs": [
    {
     "data": {
      "text/plain": [
       "{1: 3, 2: 2, 3: 1, 4: 1, 5: 1}"
      ]
     },
     "execution_count": 83,
     "metadata": {},
     "output_type": "execute_result"
    }
   ],
   "source": [
    "#q11.\n",
    "\n",
    "def count_occurences(lst):\n",
    "    d={}\n",
    "    for i in lst:\n",
    "        d[i]=lst.count(i)\n",
    "        \n",
    "    return d    \n",
    "count_occurences([1,1,2,3,4,5,1,2])    "
   ]
  },
  {
   "cell_type": "code",
   "execution_count": null,
   "metadata": {},
   "outputs": [],
   "source": []
  }
 ],
 "metadata": {
  "kernelspec": {
   "display_name": "Python 3",
   "language": "python",
   "name": "python3"
  },
  "language_info": {
   "codemirror_mode": {
    "name": "ipython",
    "version": 3
   },
   "file_extension": ".py",
   "mimetype": "text/x-python",
   "name": "python",
   "nbconvert_exporter": "python",
   "pygments_lexer": "ipython3",
   "version": "3.8.5"
  }
 },
 "nbformat": 4,
 "nbformat_minor": 4
}
