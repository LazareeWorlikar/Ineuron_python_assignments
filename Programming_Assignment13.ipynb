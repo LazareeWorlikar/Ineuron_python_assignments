{
 "cells": [
  {
   "cell_type": "code",
   "execution_count": 53,
   "metadata": {},
   "outputs": [],
   "source": [
    "#q1.\n",
    "import math as m\n",
    "class calculate:\n",
    "    c=50\n",
    "    h=30\n",
    "    def __init__(self,d):\n",
    "        self.d=d\n",
    "    def cal(self):\n",
    "        for i in self.d:\n",
    "            print(int(m.sqrt((2*calculate.c*i)//calculate.h)))\n",
    "       \n",
    "    \n",
    "        \n",
    "            \n",
    "        \n",
    "        "
   ]
  },
  {
   "cell_type": "code",
   "execution_count": 54,
   "metadata": {},
   "outputs": [],
   "source": [
    "p1=calculate([100,150,180])"
   ]
  },
  {
   "cell_type": "code",
   "execution_count": 55,
   "metadata": {},
   "outputs": [
    {
     "name": "stdout",
     "output_type": "stream",
     "text": [
      "18\n",
      "22\n",
      "24\n"
     ]
    }
   ],
   "source": [
    "p1.cal()"
   ]
  },
  {
   "cell_type": "code",
   "execution_count": 127,
   "metadata": {},
   "outputs": [
    {
     "data": {
      "text/plain": [
       "[[0, 0, 0, 0, 0], [0, 1, 2, 3, 4], [0, 2, 4, 6, 8]]"
      ]
     },
     "execution_count": 127,
     "metadata": {},
     "output_type": "execute_result"
    }
   ],
   "source": [
    "#q2.\n",
    "class New_funct:\n",
    "    def __init__(self,row,columns):\n",
    "        self.row=row\n",
    "        self.columns=columns\n",
    "        \n",
    "    def mul(self):\n",
    "        l=[[0 for i in range(self.columns)] for j in range(self.row)]\n",
    "        \n",
    "      \n",
    "        for i in range(self.row):\n",
    "            \n",
    "            for j in range(self.columns):\n",
    "                l[i][j]+=i*j\n",
    "                \n",
    "              \n",
    "        return l       \n",
    "\n",
    "p1=New_funct(3,5)\n",
    "\n",
    "p1.mul()"
   ]
  },
  {
   "cell_type": "code",
   "execution_count": 9,
   "metadata": {},
   "outputs": [],
   "source": [
    "#q3.\n",
    "class alphabet:\n",
    "    def __init__(self,l):\n",
    "        self.l=l\n",
    "        \n",
    "    def sort(self):\n",
    "        self.l.sort()\n",
    "        return self.l\n",
    "    "
   ]
  },
  {
   "cell_type": "code",
   "execution_count": 10,
   "metadata": {},
   "outputs": [],
   "source": [
    "p1=alphabet([\"without\",\"hello\",\"bag\",\"world\"])"
   ]
  },
  {
   "cell_type": "code",
   "execution_count": 11,
   "metadata": {},
   "outputs": [
    {
     "data": {
      "text/plain": [
       "['bag', 'hello', 'without', 'world']"
      ]
     },
     "execution_count": 11,
     "metadata": {},
     "output_type": "execute_result"
    }
   ],
   "source": [
    "p1.sort()"
   ]
  },
  {
   "cell_type": "code",
   "execution_count": 40,
   "metadata": {},
   "outputs": [],
   "source": [
    "#q4.\n",
    "class new:\n",
    "    def __init__(self,l):\n",
    "        self.l=l\n",
    "    def sort_new(self):\n",
    "        k=[]\n",
    "        r=self.l.split()\n",
    "        for i in r:\n",
    "            \n",
    "            if i not in k:\n",
    "                k.append(i)\n",
    "        k.sort()\n",
    "        return \" \".join(k)"
   ]
  },
  {
   "cell_type": "code",
   "execution_count": 41,
   "metadata": {},
   "outputs": [],
   "source": [
    "p2=new(\"hello world and practice makes perfect and hello world again\")"
   ]
  },
  {
   "cell_type": "code",
   "execution_count": 42,
   "metadata": {},
   "outputs": [
    {
     "data": {
      "text/plain": [
       "'again and hello makes perfect practice world'"
      ]
     },
     "execution_count": 42,
     "metadata": {},
     "output_type": "execute_result"
    }
   ],
   "source": [
    "p2.sort_new()"
   ]
  },
  {
   "cell_type": "code",
   "execution_count": 51,
   "metadata": {},
   "outputs": [],
   "source": [
    "#q5.\n",
    "class count:\n",
    "    def __init__(self,l):\n",
    "        self.l=l\n",
    "        \n",
    "    def count(self):\n",
    "        digit=0\n",
    "        letters=0\n",
    "        for i in self.l:\n",
    "            if i.isalpha():\n",
    "                letters+=1\n",
    "            elif i.isnumeric():\n",
    "                digit+=1\n",
    "            else:\n",
    "                pass\n",
    "        print(f\"LETTERS:{letters}\")\n",
    "        print(f\"DIGIT:{digit}\")"
   ]
  },
  {
   "cell_type": "code",
   "execution_count": 52,
   "metadata": {},
   "outputs": [],
   "source": [
    "p1=count(\"hello world ! 123\")"
   ]
  },
  {
   "cell_type": "code",
   "execution_count": 53,
   "metadata": {},
   "outputs": [
    {
     "name": "stdout",
     "output_type": "stream",
     "text": [
      "LETTERS:10\n",
      "DIGIT:3\n"
     ]
    }
   ],
   "source": [
    "p1.count()"
   ]
  },
  {
   "cell_type": "code",
   "execution_count": 52,
   "metadata": {},
   "outputs": [],
   "source": [
    "#q6.\n",
    "import re\n",
    "class password:\n",
    "    def __init__(self,k):\n",
    "        self.k=k\n",
    "        \n",
    "    def check(self):\n",
    "        for password in self.k:\n",
    "            l, u, p, d = 0, 0, 0, 0\n",
    "            if (len(password)>=6 and len(password)<=12):\n",
    "                for i in password:\n",
    "                    if (i.islower()):\n",
    "                        l+=1\n",
    "                    if (i.isupper()):\n",
    "                        u+=1\n",
    "                    if (i.isdigit()):\n",
    "                        d+=1\n",
    "                    if (i=='$' or i=='#' or i=='@'):\n",
    "                        p+=1\n",
    "            if (l>=1 and u>=1 and p>=1 and d>=1):\n",
    "                print(password)\n",
    "            \n",
    "                    \n",
    "        \n",
    "        "
   ]
  },
  {
   "cell_type": "code",
   "execution_count": 53,
   "metadata": {},
   "outputs": [],
   "source": [
    "p1=password([\"ABd1234@1\",\"a F1#\",\"2w3E*\",\"2We3345\"])"
   ]
  },
  {
   "cell_type": "code",
   "execution_count": 54,
   "metadata": {},
   "outputs": [
    {
     "name": "stdout",
     "output_type": "stream",
     "text": [
      "ABd1234@1\n"
     ]
    }
   ],
   "source": [
    "p1.check()"
   ]
  },
  {
   "cell_type": "code",
   "execution_count": null,
   "metadata": {},
   "outputs": [],
   "source": []
  }
 ],
 "metadata": {
  "kernelspec": {
   "display_name": "Python 3",
   "language": "python",
   "name": "python3"
  },
  "language_info": {
   "codemirror_mode": {
    "name": "ipython",
    "version": 3
   },
   "file_extension": ".py",
   "mimetype": "text/x-python",
   "name": "python",
   "nbconvert_exporter": "python",
   "pygments_lexer": "ipython3",
   "version": "3.8.5"
  }
 },
 "nbformat": 4,
 "nbformat_minor": 4
}
