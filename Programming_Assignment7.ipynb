{
 "cells": [
  {
   "cell_type": "code",
   "execution_count": 10,
   "metadata": {},
   "outputs": [
    {
     "data": {
      "text/plain": [
       "11"
      ]
     },
     "execution_count": 10,
     "metadata": {},
     "output_type": "execute_result"
    }
   ],
   "source": [
    "#q1.\n",
    "def summation(arr):\n",
    "    sum=0\n",
    "    for i in arr:\n",
    "         sum+=i\n",
    "    return sum        \n",
    "        \n",
    "summation([1,2,3,5])     "
   ]
  },
  {
   "cell_type": "code",
   "execution_count": 14,
   "metadata": {},
   "outputs": [
    {
     "data": {
      "text/plain": [
       "10"
      ]
     },
     "execution_count": 14,
     "metadata": {},
     "output_type": "execute_result"
    }
   ],
   "source": [
    "#q2.\n",
    "def maximum(arr):\n",
    "    return max(arr)\n",
    "maximum([1,2,3,10,3])"
   ]
  },
  {
   "cell_type": "code",
   "execution_count": 85,
   "metadata": {},
   "outputs": [
    {
     "name": "stdout",
     "output_type": "stream",
     "text": [
      "[4, 5, 6, 7, 8, 1, 2, 3]\n"
     ]
    }
   ],
   "source": [
    "#q3.\n",
    "def array_rotation(arr,d):\n",
    "    temp=[]\n",
    "    rest=[]\n",
    "    for i in range(d):\n",
    "        \n",
    "        temp.append(arr[i])\n",
    "    \n",
    "    for i in range(d):\n",
    "        if i ==0:\n",
    "            arr.remove(arr[i])\n",
    "        else:\n",
    "            arr.remove(arr[0])\n",
    "    \n",
    "    print(arr+temp)\n",
    "\n",
    "array_rotation([1,2,3,4,5,6,7,8],3)"
   ]
  },
  {
   "cell_type": "code",
   "execution_count": 86,
   "metadata": {},
   "outputs": [
    {
     "name": "stdout",
     "output_type": "stream",
     "text": [
      "[4, 5, 6, 7, 8, 1, 2, 3]\n"
     ]
    }
   ],
   "source": [
    "#q4.\n",
    "\n",
    "def array_rotation(arr,d):\n",
    "    temp=[]\n",
    "    rest=[]\n",
    "    for i in range(d):\n",
    "        \n",
    "        temp.append(arr[i])\n",
    "    \n",
    "    for i in range(d):\n",
    "        if i ==0:\n",
    "            arr.remove(arr[i])\n",
    "        else:\n",
    "            arr.remove(arr[0])\n",
    "    \n",
    "    print(arr+temp)\n",
    "\n",
    "array_rotation([1,2,3,4,5,6,7,8],3)"
   ]
  },
  {
   "cell_type": "code",
   "execution_count": 9,
   "metadata": {},
   "outputs": [
    {
     "data": {
      "text/plain": [
       "True"
      ]
     },
     "execution_count": 9,
     "metadata": {},
     "output_type": "execute_result"
    }
   ],
   "source": [
    "#q5.\n",
    "def monotonic(arr):\n",
    "    for i in range(len(arr)-1):\n",
    "        return all(arr[i]>=arr[i+1] for i in range(len(arr)-1)) or all(arr[i]<=arr[i+1] for i in range(len(arr)-1))\n",
    "\n",
    "monotonic([6,5,3,2])"
   ]
  },
  {
   "cell_type": "code",
   "execution_count": null,
   "metadata": {},
   "outputs": [],
   "source": []
  }
 ],
 "metadata": {
  "kernelspec": {
   "display_name": "Python 3",
   "language": "python",
   "name": "python3"
  },
  "language_info": {
   "codemirror_mode": {
    "name": "ipython",
    "version": 3
   },
   "file_extension": ".py",
   "mimetype": "text/x-python",
   "name": "python",
   "nbconvert_exporter": "python",
   "pygments_lexer": "ipython3",
   "version": "3.8.5"
  }
 },
 "nbformat": 4,
 "nbformat_minor": 4
}
