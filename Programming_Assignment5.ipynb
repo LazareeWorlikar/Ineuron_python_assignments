{
 "cells": [
  {
   "cell_type": "code",
   "execution_count": 6,
   "metadata": {},
   "outputs": [
    {
     "name": "stdout",
     "output_type": "stream",
     "text": [
      "The L.C.M. is 16\n"
     ]
    }
   ],
   "source": [
    "#q1.\n",
    "\n",
    "def compute_lcm(x, y):\n",
    "\n",
    "  \n",
    "   if x > y:\n",
    "       greater = x\n",
    "   else:\n",
    "       greater = y\n",
    "\n",
    "   while(True):\n",
    "       if((greater % x == 0) and (greater % y == 0)):\n",
    "           lcm = greater\n",
    "           break\n",
    "       greater += 1\n",
    "\n",
    "   return lcm\n",
    "\n",
    "num1 = 16\n",
    "num2 = 8\n",
    "\n",
    "print(\"The L.C.M. is\", compute_lcm(num1, num2))"
   ]
  },
  {
   "cell_type": "code",
   "execution_count": 11,
   "metadata": {},
   "outputs": [
    {
     "name": "stdout",
     "output_type": "stream",
     "text": [
      "The H.C.F. is 6\n"
     ]
    }
   ],
   "source": [
    "#q2.\n",
    "\n",
    "def compute_hcf(x, y):\n",
    "\n",
    "\n",
    "    if x > y:\n",
    "        smaller = y\n",
    "    else:\n",
    "        smaller = x\n",
    "    for i in range(1, smaller+1):\n",
    "        if((x % i == 0) and (y % i == 0)):\n",
    "            hcf = i \n",
    "    return hcf\n",
    "\n",
    "num1 = 6\n",
    "num2 = 24\n",
    "\n",
    "print(\"The H.C.F. is\", compute_hcf(num1, num2))"
   ]
  },
  {
   "cell_type": "code",
   "execution_count": 9,
   "metadata": {},
   "outputs": [
    {
     "name": "stdout",
     "output_type": "stream",
     "text": [
      "Please Enter the Decimal Number = 2\n",
      "2  Decimal =  0b10 Binary Value\n",
      "2  Decimal =  0o2 Octal Value\n",
      "2  Decimal =  0x2 Hexadecimal Value\n"
     ]
    }
   ],
   "source": [
    "#q3.\n",
    "\n",
    "decimal = int(input(\"Please Enter the Decimal Number = \"))\n",
    "\n",
    "binary = bin(decimal)\n",
    "octal = oct(decimal)\n",
    "hexadecimal = hex(decimal)\n",
    "\n",
    "print(decimal, \" Decimal = \", binary, \"Binary Value\")\n",
    "print(decimal, \" Decimal = \", octal, \"Octal Value\")\n",
    "print(decimal, \" Decimal = \", hexadecimal, \"Hexadecimal Value\")"
   ]
  },
  {
   "cell_type": "code",
   "execution_count": 15,
   "metadata": {},
   "outputs": [
    {
     "name": "stdout",
     "output_type": "stream",
     "text": [
      "enter any character:a\n",
      "the ascii for a is 97\n"
     ]
    }
   ],
   "source": [
    "#q4.\n",
    "character=input(\"enter any character:\")\n",
    "ascii_value=ord(character)\n",
    "\n",
    "print(f\"the ascii for {character} is {ascii_value}\")"
   ]
  },
  {
   "cell_type": "code",
   "execution_count": 18,
   "metadata": {},
   "outputs": [
    {
     "name": "stdout",
     "output_type": "stream",
     "text": [
      "enter any number:3\n",
      "enter any number:2\n",
      "1:sum,2:subtraction,3:multiplication,4:division\n",
      "enter the number of operation needed\n",
      "enter number:2\n",
      "1\n"
     ]
    }
   ],
   "source": [
    "#q5.\n",
    "def sum(a,b):\n",
    "    return a+b\n",
    "def subtract(a,b):\n",
    "    return a-b\n",
    "def multiply(a,b):\n",
    "    return a*b\n",
    "def division(a,b):\n",
    "    return a/b\n",
    "a=int(input(\"enter any number:\"))\n",
    "b=int(input(\"enter any number:\"))\n",
    "\n",
    "print(\"1:sum,2:subtraction,3:multiplication,4:division\")\n",
    "print(\"enter the number of operation needed\")\n",
    "operation=int(input(\"enter number:\"))\n",
    "if operation==1:\n",
    "    print(sum(a,b))\n",
    "elif operation==2:\n",
    "    print(subtract(a,b))\n",
    "elif operation==3:\n",
    "    print(multiply(a,b))\n",
    "elif operation==4:\n",
    "    print(division(a,b))\n",
    "else:\n",
    "    print(\"invalid syntax\")"
   ]
  },
  {
   "cell_type": "code",
   "execution_count": 19,
   "metadata": {},
   "outputs": [
    {
     "data": {
      "text/plain": [
       "5"
      ]
     },
     "execution_count": 19,
     "metadata": {},
     "output_type": "execute_result"
    }
   ],
   "source": []
  },
  {
   "cell_type": "code",
   "execution_count": null,
   "metadata": {},
   "outputs": [],
   "source": []
  }
 ],
 "metadata": {
  "kernelspec": {
   "display_name": "Python 3",
   "language": "python",
   "name": "python3"
  },
  "language_info": {
   "codemirror_mode": {
    "name": "ipython",
    "version": 3
   },
   "file_extension": ".py",
   "mimetype": "text/x-python",
   "name": "python",
   "nbconvert_exporter": "python",
   "pygments_lexer": "ipython3",
   "version": "3.8.5"
  }
 },
 "nbformat": 4,
 "nbformat_minor": 4
}
