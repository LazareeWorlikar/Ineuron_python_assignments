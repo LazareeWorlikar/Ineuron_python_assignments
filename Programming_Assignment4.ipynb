{
 "cells": [
  {
   "cell_type": "code",
   "execution_count": 6,
   "metadata": {},
   "outputs": [],
   "source": [
    "#q1.\n",
    "\n",
    "\n",
    "def factorial(n):\n",
    "    prod=1\n",
    "    for i in range(1,n+1):\n",
    "        prod*=i\n",
    "    return prod    \n",
    "\n"
   ]
  },
  {
   "cell_type": "code",
   "execution_count": 34,
   "metadata": {},
   "outputs": [
    {
     "data": {
      "text/plain": [
       "1"
      ]
     },
     "execution_count": 34,
     "metadata": {},
     "output_type": "execute_result"
    }
   ],
   "source": [
    "factorial(0)"
   ]
  },
  {
   "cell_type": "code",
   "execution_count": 32,
   "metadata": {},
   "outputs": [],
   "source": [
    "#q2.\n",
    "\n",
    "def multiplication(n,end):\n",
    "    for i in range(1,end+1):\n",
    "        print(i*n)\n",
    "    "
   ]
  },
  {
   "cell_type": "code",
   "execution_count": 33,
   "metadata": {},
   "outputs": [
    {
     "name": "stdout",
     "output_type": "stream",
     "text": [
      "2\n",
      "4\n",
      "6\n",
      "8\n",
      "10\n",
      "12\n",
      "14\n",
      "16\n",
      "18\n",
      "20\n"
     ]
    }
   ],
   "source": [
    "multiplication(2,10)"
   ]
  },
  {
   "cell_type": "code",
   "execution_count": 29,
   "metadata": {},
   "outputs": [
    {
     "name": "stdout",
     "output_type": "stream",
     "text": [
      "enter any number of your choice:8\n",
      "0 1,1 ,2 ,3 ,5 ,8 ,13 ,21 ,"
     ]
    }
   ],
   "source": [
    "#q3.\n",
    "a=0\n",
    "b=1\n",
    "n=int(input(\"enter any number of your choice:\"))\n",
    "if n==1:\n",
    "    print(a)\n",
    "elif n==2:\n",
    "    print(a, b)\n",
    "else:\n",
    "    if n>2:\n",
    "        print(a,b,end=',')\n",
    "        for i in range(2,n+1):\n",
    "            \n",
    "            c=a+b\n",
    "            a=b\n",
    "            b=c\n",
    "            print(c,end=' ,')\n",
    "            \n",
    "        "
   ]
  },
  {
   "cell_type": "code",
   "execution_count": 44,
   "metadata": {},
   "outputs": [
    {
     "name": "stdout",
     "output_type": "stream",
     "text": [
      "enter any number of your choice:1634\n",
      "1634\n",
      "yes it is armstrong\n"
     ]
    }
   ],
   "source": [
    "#q4.\n",
    "\n",
    "num=input(\"enter any number of your choice:\")\n",
    "sum=0\n",
    "\n",
    "power=len(str(num))\n",
    "\n",
    "for i in range(len(num)):\n",
    "    \n",
    "    sum+=int(num[i])**power\n",
    "print(sum)\n",
    "\n",
    "if sum==int(num):\n",
    "    print(\"yes it is armstrong\")\n",
    "else:\n",
    "    print(\"not armstrong\")"
   ]
  },
  {
   "cell_type": "code",
   "execution_count": 6,
   "metadata": {},
   "outputs": [
    {
     "name": "stdout",
     "output_type": "stream",
     "text": [
      "enter lower limit:368\n",
      "enter upper limit:372\n",
      "370\n",
      "371\n"
     ]
    }
   ],
   "source": [
    "#q5.\n",
    "int1=int(input(\"enter lower limit:\"))\n",
    "int2=int(input(\"enter upper limit:\"))\n",
    "\n",
    "for num in range(int1,int2+1):\n",
    "    sum=0\n",
    "    power=len(str(num))\n",
    "    num=str(num)\n",
    "    for i in range(len(str(num))):\n",
    "        \n",
    "        sum+=int(num[i])**power\n",
    "        if sum==int(num):\n",
    "            print(num)\n",
    "            break\n",
    "        else:\n",
    "            pass"
   ]
  },
  {
   "cell_type": "code",
   "execution_count": 14,
   "metadata": {},
   "outputs": [
    {
     "name": "stdout",
     "output_type": "stream",
     "text": [
      "enter any number of your choice:2\n"
     ]
    },
    {
     "data": {
      "text/plain": [
       "3.0"
      ]
     },
     "execution_count": 14,
     "metadata": {},
     "output_type": "execute_result"
    }
   ],
   "source": [
    "#q6.\n",
    "\n",
    "def sum_of_natural_nos(n):\n",
    "    return (n*(n+1))/2\n",
    "\n",
    "\n",
    "\n",
    "n=int(input(\"enter any number of your choice:\"))\n",
    "sum_of_natural_nos(n)"
   ]
  }
 ],
 "metadata": {
  "kernelspec": {
   "display_name": "Python 3",
   "language": "python",
   "name": "python3"
  },
  "language_info": {
   "codemirror_mode": {
    "name": "ipython",
    "version": 3
   },
   "file_extension": ".py",
   "mimetype": "text/x-python",
   "name": "python",
   "nbconvert_exporter": "python",
   "pygments_lexer": "ipython3",
   "version": "3.8.5"
  }
 },
 "nbformat": 4,
 "nbformat_minor": 4
}
